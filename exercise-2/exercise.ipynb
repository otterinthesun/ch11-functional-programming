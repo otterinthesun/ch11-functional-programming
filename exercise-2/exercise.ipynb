{
 "cells": [
  {
   "cell_type": "markdown",
   "metadata": {},
   "source": [
    "# Exercise-2\n",
    "Add the specified code for each code cell, running the cells _in order_."
   ]
  },
  {
   "cell_type": "markdown",
   "metadata": {},
   "source": [
    "Define a list **`names`** that includes your name and the names of at least 2 people close to you."
   ]
  },
  {
   "cell_type": "code",
   "execution_count": 3,
   "metadata": {},
   "outputs": [
    {
     "data": {
      "text/plain": [
       "['Jenny', 'Yini', 'Rui', 'Olivia']"
      ]
     },
     "execution_count": 3,
     "metadata": {},
     "output_type": "execute_result"
    }
   ],
   "source": [
    "names = ['Jenny', 'Yini', 'Rui', 'Olivia']\n",
    "names"
   ]
  },
  {
   "cell_type": "markdown",
   "metadata": {},
   "source": [
    "Use a **list comprehension** to _map_ the `names` list to a `shouted` list that includes all the names, but in upper case. Print out the `shouted` list."
   ]
  },
  {
   "cell_type": "code",
   "execution_count": 5,
   "metadata": {},
   "outputs": [
    {
     "data": {
      "text/plain": [
       "['JENNY', 'YINI', 'RUI', 'OLIVIA']"
      ]
     },
     "execution_count": 5,
     "metadata": {},
     "output_type": "execute_result"
    }
   ],
   "source": [
    "shouted = [n.upper() for n in names]\n",
    "shouted"
   ]
  },
  {
   "cell_type": "markdown",
   "metadata": {},
   "source": [
    "Define a new list **`words`** that contains each of the words to the following [song lyric](https://www.youtube.com/watch?v=StTqXEQ2l-Y) (don't include the notes):\n",
    "```\n",
    "♫ everything is awesome everything is cool when you are part of a TEEEEAM ♫\n",
    "```\n",
    "\n",
    "_Hint:_ use the `split()` string method."
   ]
  },
  {
   "cell_type": "code",
   "execution_count": 11,
   "metadata": {},
   "outputs": [
    {
     "data": {
      "text/plain": [
       "['everything',\n",
       " 'is',\n",
       " 'awesome',\n",
       " 'everything',\n",
       " 'is',\n",
       " 'cool',\n",
       " 'when',\n",
       " 'you',\n",
       " 'are',\n",
       " 'part',\n",
       " 'of',\n",
       " 'a',\n",
       " 'TEEEEAM']"
      ]
     },
     "execution_count": 11,
     "metadata": {},
     "output_type": "execute_result"
    }
   ],
   "source": [
    "words = 'everything is awesome everything is cool when you are part of a TEEEEAM'\n",
    "words = words.split()\n",
    "words"
   ]
  },
  {
   "cell_type": "markdown",
   "metadata": {},
   "source": [
    "Use a **list comprehension** to filter the list of words to only include words that have (strictly) more than 4 letters."
   ]
  },
  {
   "cell_type": "code",
   "execution_count": 17,
   "metadata": {},
   "outputs": [
    {
     "data": {
      "text/plain": [
       "['everything', 'awesome', 'everything', 'TEEEEAM']"
      ]
     },
     "execution_count": 17,
     "metadata": {},
     "output_type": "execute_result"
    }
   ],
   "source": [
    "filtered_4plus = [n for n in filter(lambda string: len(string)>4, words)]\n",
    "filtered_4plus"
   ]
  },
  {
   "cell_type": "markdown",
   "metadata": {},
   "source": [
    "Use a **list comprehension** to create a list of initials for each word in the lyric that is _not_ 3 letters or shorter."
   ]
  },
  {
   "cell_type": "code",
   "execution_count": 20,
   "metadata": {},
   "outputs": [
    {
     "data": {
      "text/plain": [
       "['E.', 'A.', 'E.', 'C.', 'W.', 'P.', 'T.']"
      ]
     },
     "execution_count": 20,
     "metadata": {},
     "output_type": "execute_result"
    }
   ],
   "source": [
    "filtered_3plus = [n[0].upper()+\".\" for n in filter(lambda string: len(string)>3, words)]\n",
    "filtered_3plus"
   ]
  },
  {
   "cell_type": "markdown",
   "metadata": {},
   "source": [
    "Use a **list comprehension** (with nested `for` clauses) to produce a list of _tuples_ representing the different combinations of numbers found on two rolled six-sided dice:\n",
    "```\n",
    "[(1,1), (1,2), (1,3), ...]\n",
    "```\n",
    "Note that there should be 36 different combinations!"
   ]
  },
  {
   "cell_type": "code",
   "execution_count": 21,
   "metadata": {},
   "outputs": [
    {
     "data": {
      "text/plain": [
       "[<function __main__.<listcomp>.<lambda>>,\n",
       " <function __main__.<listcomp>.<lambda>>,\n",
       " <function __main__.<listcomp>.<lambda>>,\n",
       " <function __main__.<listcomp>.<lambda>>,\n",
       " <function __main__.<listcomp>.<lambda>>,\n",
       " <function __main__.<listcomp>.<lambda>>,\n",
       " <function __main__.<listcomp>.<lambda>>,\n",
       " <function __main__.<listcomp>.<lambda>>,\n",
       " <function __main__.<listcomp>.<lambda>>,\n",
       " <function __main__.<listcomp>.<lambda>>,\n",
       " <function __main__.<listcomp>.<lambda>>,\n",
       " <function __main__.<listcomp>.<lambda>>,\n",
       " <function __main__.<listcomp>.<lambda>>,\n",
       " <function __main__.<listcomp>.<lambda>>,\n",
       " <function __main__.<listcomp>.<lambda>>,\n",
       " <function __main__.<listcomp>.<lambda>>,\n",
       " <function __main__.<listcomp>.<lambda>>,\n",
       " <function __main__.<listcomp>.<lambda>>,\n",
       " <function __main__.<listcomp>.<lambda>>,\n",
       " <function __main__.<listcomp>.<lambda>>,\n",
       " <function __main__.<listcomp>.<lambda>>,\n",
       " <function __main__.<listcomp>.<lambda>>,\n",
       " <function __main__.<listcomp>.<lambda>>,\n",
       " <function __main__.<listcomp>.<lambda>>,\n",
       " <function __main__.<listcomp>.<lambda>>,\n",
       " <function __main__.<listcomp>.<lambda>>,\n",
       " <function __main__.<listcomp>.<lambda>>,\n",
       " <function __main__.<listcomp>.<lambda>>,\n",
       " <function __main__.<listcomp>.<lambda>>,\n",
       " <function __main__.<listcomp>.<lambda>>,\n",
       " <function __main__.<listcomp>.<lambda>>,\n",
       " <function __main__.<listcomp>.<lambda>>,\n",
       " <function __main__.<listcomp>.<lambda>>,\n",
       " <function __main__.<listcomp>.<lambda>>,\n",
       " <function __main__.<listcomp>.<lambda>>,\n",
       " <function __main__.<listcomp>.<lambda>>]"
      ]
     },
     "execution_count": 21,
     "metadata": {},
     "output_type": "execute_result"
    }
   ],
   "source": [
    "dice = [1,2,3,4,5,6]\n",
    "dices_combine = [lambda x, y: (x,y) for x in dice for y in dice]\n",
    "dices_combine"
   ]
  },
  {
   "cell_type": "markdown",
   "metadata": {},
   "source": [
    "Use a **list comprehension** to produce a list of tuples representing the rolls on two dice that sum up to 7 OR 11."
   ]
  },
  {
   "cell_type": "code",
   "execution_count": null,
   "metadata": {
    "collapsed": true
   },
   "outputs": [],
   "source": []
  }
 ],
 "metadata": {
  "kernelspec": {
   "display_name": "Python 3",
   "language": "python",
   "name": "python3"
  },
  "language_info": {
   "codemirror_mode": {
    "name": "ipython",
    "version": 3
   },
   "file_extension": ".py",
   "mimetype": "text/x-python",
   "name": "python",
   "nbconvert_exporter": "python",
   "pygments_lexer": "ipython3",
   "version": "3.6.1"
  },
  "toc": {
   "colors": {
    "hover_highlight": "#DAA520",
    "running_highlight": "#FF0000",
    "selected_highlight": "#FFD700"
   },
   "moveMenuLeft": true,
   "nav_menu": {
    "height": "30px",
    "width": "252px"
   },
   "navigate_menu": true,
   "number_sections": true,
   "sideBar": true,
   "threshold": 4,
   "toc_cell": false,
   "toc_section_display": "block",
   "toc_window_display": false,
   "widenNotebook": false
  }
 },
 "nbformat": 4,
 "nbformat_minor": 2
}
